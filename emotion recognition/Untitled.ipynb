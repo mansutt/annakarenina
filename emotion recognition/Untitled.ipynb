{
 "cells": [
  {
   "cell_type": "code",
   "execution_count": 1,
   "id": "254537ce",
   "metadata": {},
   "outputs": [],
   "source": [
    "import pandas as pd\n",
    "import os\n",
    "import matplotlib as plt"
   ]
  },
  {
   "cell_type": "code",
   "execution_count": 2,
   "id": "721a8f6a",
   "metadata": {},
   "outputs": [],
   "source": [
    "df1 = pd.read_csv('p1.csv', index_col=0)\n",
    "df2 = pd.read_csv('p2.csv', index_col=0)\n",
    "df3 = pd.read_csv('p3.csv', index_col=0)\n",
    "df4 = pd.read_csv('p4.csv', index_col=0)\n",
    "df5 = pd.read_csv('p5.csv', index_col=0)\n",
    "df6 = pd.read_csv('p6.csv', index_col=0)\n",
    "df7 = pd.read_csv('p7.csv', index_col=0)\n",
    "df8 = pd.read_csv('p8.csv', index_col=0)"
   ]
  },
  {
   "cell_type": "code",
   "execution_count": 4,
   "id": "d153896c",
   "metadata": {},
   "outputs": [],
   "source": [
    "all_parts = {}"
   ]
  },
  {
   "cell_type": "code",
   "execution_count": 5,
   "id": "6257d920",
   "metadata": {},
   "outputs": [
    {
     "data": {
      "text/plain": [
       "anger       58.336731\n",
       "joy         28.862617\n",
       "sadness      8.560946\n",
       "fear         3.098247\n",
       "love         0.937627\n",
       "surprise     0.203832\n",
       "Name: Emotion, dtype: float64"
      ]
     },
     "execution_count": 5,
     "metadata": {},
     "output_type": "execute_result"
    }
   ],
   "source": [
    "df1['Emotion'].value_counts(normalize=True) * 100"
   ]
  },
  {
   "cell_type": "code",
   "execution_count": 6,
   "id": "4fc680b9",
   "metadata": {},
   "outputs": [],
   "source": [
    "df1_values = df1['Emotion'].value_counts(normalize=True).rename_axis('unique_values').reset_index(name='counts')\n",
    "df1_values['counts'] = df1_values['counts'] * 100    # not possible in creation of df because only value counts need to be multiplied by 100 (?)"
   ]
  },
  {
   "cell_type": "code",
   "execution_count": 7,
   "id": "ef4e855c",
   "metadata": {
    "scrolled": true
   },
   "outputs": [
    {
     "data": {
      "text/html": [
       "<div>\n",
       "<style scoped>\n",
       "    .dataframe tbody tr th:only-of-type {\n",
       "        vertical-align: middle;\n",
       "    }\n",
       "\n",
       "    .dataframe tbody tr th {\n",
       "        vertical-align: top;\n",
       "    }\n",
       "\n",
       "    .dataframe thead th {\n",
       "        text-align: right;\n",
       "    }\n",
       "</style>\n",
       "<table border=\"1\" class=\"dataframe\">\n",
       "  <thead>\n",
       "    <tr style=\"text-align: right;\">\n",
       "      <th></th>\n",
       "      <th>unique_values</th>\n",
       "      <th>counts</th>\n",
       "    </tr>\n",
       "  </thead>\n",
       "  <tbody>\n",
       "    <tr>\n",
       "      <th>0</th>\n",
       "      <td>anger</td>\n",
       "      <td>58.336731</td>\n",
       "    </tr>\n",
       "    <tr>\n",
       "      <th>1</th>\n",
       "      <td>joy</td>\n",
       "      <td>28.862617</td>\n",
       "    </tr>\n",
       "    <tr>\n",
       "      <th>2</th>\n",
       "      <td>sadness</td>\n",
       "      <td>8.560946</td>\n",
       "    </tr>\n",
       "    <tr>\n",
       "      <th>3</th>\n",
       "      <td>fear</td>\n",
       "      <td>3.098247</td>\n",
       "    </tr>\n",
       "    <tr>\n",
       "      <th>4</th>\n",
       "      <td>love</td>\n",
       "      <td>0.937627</td>\n",
       "    </tr>\n",
       "  </tbody>\n",
       "</table>\n",
       "</div>"
      ],
      "text/plain": [
       "  unique_values     counts\n",
       "0         anger  58.336731\n",
       "1           joy  28.862617\n",
       "2       sadness   8.560946\n",
       "3          fear   3.098247\n",
       "4          love   0.937627"
      ]
     },
     "execution_count": 7,
     "metadata": {},
     "output_type": "execute_result"
    }
   ],
   "source": [
    "df1_values.head()\n",
    "# df1_values.plot(kind='bar')\n"
   ]
  },
  {
   "cell_type": "code",
   "execution_count": 48,
   "id": "37572e57",
   "metadata": {},
   "outputs": [
    {
     "name": "stdout",
     "output_type": "stream",
     "text": [
      "{'anger': {'Part 1': 58.33673053403995, 'Part 2': 59.352517985611506, 'Part 3': 56.31460674157304, 'Part 4': 58.80322209436134, 'Part 5': 57.25806451612904, 'Part 6': 57.32586068855085, 'Part 7': 61.61616161616161, 'Part 8': 58.06451612903226}, 'joy': {'Part 1': 28.862617203424378, 'Part 2': 27.33812949640288, 'Part 3': 30.112359550561795, 'Part 4': 27.445339470655927, 'Part 5': 26.433691756272403, 'Part 6': 30.704563650920736, 'Part 7': 24.012855831037648, 'Part 8': 29.34443288241415}, 'sadness': {'Part 1': 8.560945780676722, 'Part 2': 8.673061550759392, 'Part 3': 11.01123595505618, 'Part 4': 9.781357882623706, 'Part 5': 11.783154121863799, 'Part 6': 8.726981585268215, 'Part 7': 8.999081726354454, 'Part 8': 9.053069719042664}, 'fear': {'Part 1': 3.0982470444353853, 'Part 2': 3.8768984812150276, 'Part 3': 2.0674157303370784, 'Part 4': 2.934407364787112, 'Part 5': 3.2706093189964163, 'Part 6': 2.6421136909527623, 'Part 7': 4.224058769513315, 'Part 8': 3.0176899063475546}, 'love': {'Part 1': 0.9376273950264982, 'Part 2': 0.5995203836930456, 'Part 3': 0.3146067415730337, 'Part 4': 0.7479861910241657, 'Part 5': 1.0752688172043012, 'Part 6': 0.4403522818254604, 'Part 7': 0.7346189164370982, 'Part 8': 0.31217481789802287}}\n"
     ]
    }
   ],
   "source": [
    "# reformat values to fit into barchart\n",
    "\n",
    "emotions = {'anger': {}, 'joy': {}, 'sadness': {}, 'fear': {}, 'love': {}}\n",
    "\n",
    "def reformat(file, fname):\n",
    "    anger = file['Emotion'].value_counts(normalize=True)['anger'] * 100\n",
    "    joy = file['Emotion'].value_counts(normalize=True)['joy'] * 100\n",
    "    sadness = file['Emotion'].value_counts(normalize=True)['sadness'] * 100\n",
    "    fear = file['Emotion'].value_counts(normalize=True)['fear'] * 100\n",
    "    love = file['Emotion'].value_counts(normalize=True)['love'] * 100\n",
    "\n",
    "    emotions['anger']['Part ' + str(fname)] = anger\n",
    "    emotions['joy']['Part ' + str(fname)] = joy\n",
    "    emotions['sadness']['Part ' + str(fname)] = sadness\n",
    "    emotions['fear']['Part ' + str(fname)] = fear\n",
    "    emotions['love']['Part ' + str(fname)] = love\n",
    "\n",
    "reformat(df1, 1)\n",
    "reformat(df2, 2)\n",
    "reformat(df3, 3)\n",
    "reformat(df4, 4)\n",
    "reformat(df5, 5)\n",
    "reformat(df6, 6)\n",
    "reformat(df7, 7)\n",
    "reformat(df8, 8)\n",
    "\n",
    "print(emotions)"
   ]
  },
  {
   "cell_type": "code",
   "execution_count": 54,
   "id": "d2152e40",
   "metadata": {},
   "outputs": [
    {
     "data": {
      "text/plain": [
       "<matplotlib.legend.Legend at 0x1733b6020>"
      ]
     },
     "execution_count": 54,
     "metadata": {},
     "output_type": "execute_result"
    },
    {
     "data": {
      "image/png": "[encoded data removed]",
      "text/plain": [
       "<Figure size 432x288 with 1 Axes>"
      ]
     },
     "metadata": {
      "needs_background": "light"
     },
     "output_type": "display_data"
    }
   ],
   "source": [
    "df_chart = pd.DataFrame(emotions)\n",
    "df_chart.plot(kind='bar', stacked=True, legend='reverse').legend(loc='center left', bbox_to_anchor=(1, 0.5))"
   ]
  },
  {
   "cell_type": "code",
   "execution_count": 52,
   "id": "0d905b6e",
   "metadata": {},
   "outputs": [
    {
     "ename": "AttributeError",
     "evalue": "'DataFrame' object has no attribute 'get_position'",
     "output_type": "error",
     "traceback": [
      "\u001b[0;31m---------------------------------------------------------------------------\u001b[0m",
      "\u001b[0;31mAttributeError\u001b[0m                            Traceback (most recent call last)",
      "Input \u001b[0;32mIn [52]\u001b[0m, in \u001b[0;36m<cell line: 1>\u001b[0;34m()\u001b[0m\n\u001b[0;32m----> 1\u001b[0m \u001b[43mdf_chart\u001b[49m\u001b[38;5;241;43m.\u001b[39;49m\u001b[43mget_position\u001b[49m()\n",
      "File \u001b[0;32m/Library/Frameworks/Python.framework/Versions/3.10/lib/python3.10/site-packages/pandas/core/generic.py:5583\u001b[0m, in \u001b[0;36mNDFrame.__getattr__\u001b[0;34m(self, name)\u001b[0m\n\u001b[1;32m   5576\u001b[0m \u001b[38;5;28;01mif\u001b[39;00m (\n\u001b[1;32m   5577\u001b[0m     name \u001b[38;5;129;01mnot\u001b[39;00m \u001b[38;5;129;01min\u001b[39;00m \u001b[38;5;28mself\u001b[39m\u001b[38;5;241m.\u001b[39m_internal_names_set\n\u001b[1;32m   5578\u001b[0m     \u001b[38;5;129;01mand\u001b[39;00m name \u001b[38;5;129;01mnot\u001b[39;00m \u001b[38;5;129;01min\u001b[39;00m \u001b[38;5;28mself\u001b[39m\u001b[38;5;241m.\u001b[39m_metadata\n\u001b[1;32m   5579\u001b[0m     \u001b[38;5;129;01mand\u001b[39;00m name \u001b[38;5;129;01mnot\u001b[39;00m \u001b[38;5;129;01min\u001b[39;00m \u001b[38;5;28mself\u001b[39m\u001b[38;5;241m.\u001b[39m_accessors\n\u001b[1;32m   5580\u001b[0m     \u001b[38;5;129;01mand\u001b[39;00m \u001b[38;5;28mself\u001b[39m\u001b[38;5;241m.\u001b[39m_info_axis\u001b[38;5;241m.\u001b[39m_can_hold_identifiers_and_holds_name(name)\n\u001b[1;32m   5581\u001b[0m ):\n\u001b[1;32m   5582\u001b[0m     \u001b[38;5;28;01mreturn\u001b[39;00m \u001b[38;5;28mself\u001b[39m[name]\n\u001b[0;32m-> 5583\u001b[0m \u001b[38;5;28;01mreturn\u001b[39;00m \u001b[38;5;28;43mobject\u001b[39;49m\u001b[38;5;241;43m.\u001b[39;49m\u001b[38;5;21;43m__getattribute__\u001b[39;49m\u001b[43m(\u001b[49m\u001b[38;5;28;43mself\u001b[39;49m\u001b[43m,\u001b[49m\u001b[43m \u001b[49m\u001b[43mname\u001b[49m\u001b[43m)\u001b[49m\n",
      "\u001b[0;31mAttributeError\u001b[0m: 'DataFrame' object has no attribute 'get_position'"
     ]
    }
   ],
   "source": []
  },
  {
   "cell_type": "code",
   "execution_count": 25,
   "id": "fd7f2a35",
   "metadata": {},
   "outputs": [
    {
     "name": "stdout",
     "output_type": "stream",
     "text": [
      "{'Part 1':   unique_values     counts\n",
      "0         anger  58.336731\n",
      "1           joy  28.862617\n",
      "2       sadness   8.560946\n",
      "3          fear   3.098247\n",
      "4          love   0.937627\n",
      "5      surprise   0.203832}\n"
     ]
    }
   ],
   "source": [
    "all_parts = {}\n",
    "\n",
    "def graph(part, name):\n",
    "    all_parts['Part ' + str(name)] = part\n",
    "\n",
    "    \n",
    "all_parts['Part 1'] = df1_values\n",
    "# graph(df1_values, 1)\n",
    "# graph(df2_values, 2)\n",
    " \n",
    "print(all_parts)\n",
    "\n",
    "\n",
    "# pd.DataFrame(all_parts)"
   ]
  },
  {
   "cell_type": "code",
   "execution_count": null,
   "id": "66870d95",
   "metadata": {},
   "outputs": [],
   "source": []
  },
  {
   "cell_type": "code",
   "execution_count": 34,
   "id": "fcbb99a6",
   "metadata": {},
   "outputs": [
    {
     "name": "stdout",
     "output_type": "stream",
     "text": [
      "{'Part 1': {'Moscow': 37, 'St. Petersburg': 32, 'Pokrovskoe': 2, 'Vozdvizhenskoe': 0}, 'Part 2': {'Moscow': 21, 'St. Petersburg': 13, 'Pokrovskoe': 0, 'Vozdvizhenskoe': 0}, 'Part 3': {'Moscow': 10, 'St. Petersburg': 14, 'Pokrovskoe': 4, 'Vozdvizhenskoe': 0}, 'Part 4': {'Moscow': 13, 'St. Petersburg': 11, 'Pokrovskoe': 0, 'Vozdvizhenskoe': 0}, 'Part 5': {'Moscow': 20, 'St. Petersburg': 23, 'Pokrovskoe': 0, 'Vozdvizhenskoe': 0}, 'Part 6': {'Moscow': 20, 'St. Petersburg': 10, 'Pokrovskoe': 2, 'Vozdvizhenskoe': 5}, 'Part 7': {'Moscow': 40, 'St. Petersburg': 23, 'Pokrovskoe': 0, 'Vozdvizhenskoe': 3}, 'Part 8': {'Moscow': 12, 'St. Petersburg': 1, 'Pokrovskoe': 3, 'Vozdvizhenskoe': 0}}\n"
     ]
    },
    {
     "data": {
      "image/png": "[encoded data removed]",
      "text/plain": [
       "<Figure size 432x288 with 1 Axes>"
      ]
     },
     "metadata": {
      "needs_background": "light"
     },
     "output_type": "display_data"
    }
   ],
   "source": [
    "import os\n",
    "import re\n",
    "from matplotlib import pyplot as plt\n",
    "import pandas as pd\n",
    "\n",
    "with open(os.path.join('..', 'text', 'lemmatized', 'ak_complete_lem.txt'), 'r', encoding='utf-8') as file:\n",
    "    ak_complete_lem = file.read()\n",
    "\n",
    "with open(os.path.join('..', 'text', 'lemmatized', 'ak_p1_lem.txt'), 'r', encoding='utf-8') as file:\n",
    "    ak_p1_lem = file.read()\n",
    "\n",
    "with open(os.path.join('..', 'text', 'lemmatized', 'ak_p2_lem.txt'), 'r', encoding='utf-8') as file:\n",
    "    ak_p2_lem = file.read()\n",
    "\n",
    "with open(os.path.join('..', 'text', 'lemmatized', 'ak_p3_lem.txt'), 'r', encoding='utf-8') as file:\n",
    "    ak_p3_lem = file.read()\n",
    "\n",
    "with open(os.path.join('..', 'text', 'lemmatized', 'ak_p4_lem.txt'), 'r', encoding='utf-8') as file:\n",
    "    ak_p4_lem = file.read()\n",
    "\n",
    "with open(os.path.join('..', 'text', 'lemmatized', 'ak_p5_lem.txt'), 'r', encoding='utf-8') as file:\n",
    "    ak_p5_lem = file.read()\n",
    "\n",
    "with open(os.path.join('..', 'text', 'lemmatized', 'ak_p6_lem.txt'), 'r', encoding='utf-8') as file:\n",
    "    ak_p6_lem = file.read()\n",
    "\n",
    "with open(os.path.join('..', 'text', 'lemmatized', 'ak_p7_lem.txt'), 'r', encoding='utf-8') as file:\n",
    "    ak_p7_lem = file.read()\n",
    "\n",
    "with open(os.path.join('..', 'text', 'lemmatized', 'ak_p8_lem.txt'), 'r', encoding='utf-8') as file:\n",
    "    ak_p8_lem = file.read()\n",
    "\n",
    "all_parts_2 = {}\n",
    "\n",
    "\n",
    "def location_count(part, name):\n",
    "    def occurrences(word):\n",
    "        return sum(1 for _ in re.finditer(r'\\b%s\\b' % re.escape(word), part))\n",
    "        # (efficient code to count occurrences of a word in a long string by user \"Amber\" on StackOverflow)\n",
    "\n",
    "    places = {}\n",
    "\n",
    "    places['Moscow'] = occurrences('moscow')\n",
    "    places['St. Petersburg'] = occurrences('petersburg')\n",
    "    places['Pokrovskoe'] = occurrences('pokrovskoe')\n",
    "    places['Vozdvizhenskoe'] = occurrences('vozdvizhenskoe')\n",
    "\n",
    "    all_parts_2['Part ' + str(name)] = places\n",
    "\n",
    "\n",
    "location_count(ak_p1_lem, 1)\n",
    "location_count(ak_p2_lem, 2)\n",
    "location_count(ak_p3_lem, 3)\n",
    "location_count(ak_p4_lem, 4)\n",
    "location_count(ak_p5_lem, 5)\n",
    "location_count(ak_p6_lem, 6)\n",
    "location_count(ak_p7_lem, 7)\n",
    "location_count(ak_p8_lem, 8)\n",
    "\n",
    "df = pd.DataFrame(all_parts_2)\n",
    "df.plot(kind='bar', stacked=True, legend='reverse')\n",
    "plt.gcf().subplots_adjust(bottom=0.3)  # prevents cut-off of x labels\n",
    "\n",
    "plt.savefig('locations.png', dpi=400, bbox_inches='tight')\n",
    "\n",
    "\n",
    "print(all_parts_2)\n",
    "\n"
   ]
  },
  {
   "cell_type": "code",
   "execution_count": 10,
   "id": "a92b7993",
   "metadata": {},
   "outputs": [
    {
     "name": "stdout",
     "output_type": "stream",
     "text": [
      "{'Part 1': {'Moscow': 37, 'St. Petersburg': 32, 'Pokrovskoe': 2, 'Vozdvizhenskoe': 0}, 'Part 2': {'Moscow': 21, 'St. Petersburg': 13, 'Pokrovskoe': 0, 'Vozdvizhenskoe': 0}, 'Part 3': {'Moscow': 10, 'St. Petersburg': 14, 'Pokrovskoe': 4, 'Vozdvizhenskoe': 0}, 'Part 4': {'Moscow': 13, 'St. Petersburg': 11, 'Pokrovskoe': 0, 'Vozdvizhenskoe': 0}, 'Part 5': {'Moscow': 20, 'St. Petersburg': 23, 'Pokrovskoe': 0, 'Vozdvizhenskoe': 0}, 'Part 6': {'Moscow': 20, 'St. Petersburg': 10, 'Pokrovskoe': 2, 'Vozdvizhenskoe': 5}, 'Part 7': {'Moscow': 40, 'St. Petersburg': 23, 'Pokrovskoe': 0, 'Vozdvizhenskoe': 3}, 'Part 8': {'Moscow': 12, 'St. Petersburg': 1, 'Pokrovskoe': 3, 'Vozdvizhenskoe': 0}}\n"
     ]
    }
   ],
   "source": [
    "print(all_parts_2)"
   ]
  },
  {
   "cell_type": "code",
   "execution_count": 11,
   "id": "8c5422d2",
   "metadata": {},
   "outputs": [
    {
     "data": {
      "text/plain": [
       "anger       1485\n",
       "joy          684\n",
       "sadness      217\n",
       "fear          97\n",
       "love          15\n",
       "surprise       4\n",
       "Name: Emotion, dtype: int64"
      ]
     },
     "execution_count": 11,
     "metadata": {},
     "output_type": "execute_result"
    }
   ],
   "source": [
    "df2['Emotion'].value_counts()"
   ]
  },
  {
   "cell_type": "code",
   "execution_count": 12,
   "id": "4fb3793f",
   "metadata": {},
   "outputs": [],
   "source": [
    "df2_values = df2['Emotion'].value_counts(normalize=True).rename_axis('unique_values').reset_index(name='counts')"
   ]
  },
  {
   "cell_type": "code",
   "execution_count": 13,
   "id": "7d6a7c04",
   "metadata": {
    "scrolled": true
   },
   "outputs": [
    {
     "data": {
      "text/html": [
       "<div>\n",
       "<style scoped>\n",
       "    .dataframe tbody tr th:only-of-type {\n",
       "        vertical-align: middle;\n",
       "    }\n",
       "\n",
       "    .dataframe tbody tr th {\n",
       "        vertical-align: top;\n",
       "    }\n",
       "\n",
       "    .dataframe thead th {\n",
       "        text-align: right;\n",
       "    }\n",
       "</style>\n",
       "<table border=\"1\" class=\"dataframe\">\n",
       "  <thead>\n",
       "    <tr style=\"text-align: right;\">\n",
       "      <th></th>\n",
       "      <th>unique_values</th>\n",
       "      <th>counts</th>\n",
       "    </tr>\n",
       "  </thead>\n",
       "  <tbody>\n",
       "    <tr>\n",
       "      <th>0</th>\n",
       "      <td>anger</td>\n",
       "      <td>0.593525</td>\n",
       "    </tr>\n",
       "    <tr>\n",
       "      <th>1</th>\n",
       "      <td>joy</td>\n",
       "      <td>0.273381</td>\n",
       "    </tr>\n",
       "    <tr>\n",
       "      <th>2</th>\n",
       "      <td>sadness</td>\n",
       "      <td>0.086731</td>\n",
       "    </tr>\n",
       "    <tr>\n",
       "      <th>3</th>\n",
       "      <td>fear</td>\n",
       "      <td>0.038769</td>\n",
       "    </tr>\n",
       "    <tr>\n",
       "      <th>4</th>\n",
       "      <td>love</td>\n",
       "      <td>0.005995</td>\n",
       "    </tr>\n",
       "  </tbody>\n",
       "</table>\n",
       "</div>"
      ],
      "text/plain": [
       "  unique_values    counts\n",
       "0         anger  0.593525\n",
       "1           joy  0.273381\n",
       "2       sadness  0.086731\n",
       "3          fear  0.038769\n",
       "4          love  0.005995"
      ]
     },
     "execution_count": 13,
     "metadata": {},
     "output_type": "execute_result"
    }
   ],
   "source": [
    "df2_values.head()"
   ]
  },
  {
   "cell_type": "code",
   "execution_count": 14,
   "id": "bec3651e",
   "metadata": {},
   "outputs": [],
   "source": [
    "df2_values['counts'] = df2_values['counts'] * 100    # not possible in creation of df because only value counts need to be multiplied by 100 (?)"
   ]
  },
  {
   "cell_type": "code",
   "execution_count": 15,
   "id": "b7a0a4fd",
   "metadata": {
    "scrolled": true
   },
   "outputs": [
    {
     "data": {
      "text/html": [
       "<div>\n",
       "<style scoped>\n",
       "    .dataframe tbody tr th:only-of-type {\n",
       "        vertical-align: middle;\n",
       "    }\n",
       "\n",
       "    .dataframe tbody tr th {\n",
       "        vertical-align: top;\n",
       "    }\n",
       "\n",
       "    .dataframe thead th {\n",
       "        text-align: right;\n",
       "    }\n",
       "</style>\n",
       "<table border=\"1\" class=\"dataframe\">\n",
       "  <thead>\n",
       "    <tr style=\"text-align: right;\">\n",
       "      <th></th>\n",
       "      <th>unique_values</th>\n",
       "      <th>counts</th>\n",
       "    </tr>\n",
       "  </thead>\n",
       "  <tbody>\n",
       "    <tr>\n",
       "      <th>0</th>\n",
       "      <td>anger</td>\n",
       "      <td>59.352518</td>\n",
       "    </tr>\n",
       "    <tr>\n",
       "      <th>1</th>\n",
       "      <td>joy</td>\n",
       "      <td>27.338129</td>\n",
       "    </tr>\n",
       "    <tr>\n",
       "      <th>2</th>\n",
       "      <td>sadness</td>\n",
       "      <td>8.673062</td>\n",
       "    </tr>\n",
       "    <tr>\n",
       "      <th>3</th>\n",
       "      <td>fear</td>\n",
       "      <td>3.876898</td>\n",
       "    </tr>\n",
       "    <tr>\n",
       "      <th>4</th>\n",
       "      <td>love</td>\n",
       "      <td>0.599520</td>\n",
       "    </tr>\n",
       "  </tbody>\n",
       "</table>\n",
       "</div>"
      ],
      "text/plain": [
       "  unique_values     counts\n",
       "0         anger  59.352518\n",
       "1           joy  27.338129\n",
       "2       sadness   8.673062\n",
       "3          fear   3.876898\n",
       "4          love   0.599520"
      ]
     },
     "execution_count": 15,
     "metadata": {},
     "output_type": "execute_result"
    }
   ],
   "source": [
    "df2_values.head()"
   ]
  },
  {
   "cell_type": "code",
   "execution_count": 16,
   "id": "07fdf3cb",
   "metadata": {
    "scrolled": true
   },
   "outputs": [
    {
     "data": {
      "text/plain": [
       "<AxesSubplot:>"
      ]
     },
     "execution_count": 16,
     "metadata": {},
     "output_type": "execute_result"
    },
    {
     "data": {
      "image/png": "[encoded data removed]",
      "text/plain": [
       "<Figure size 432x288 with 1 Axes>"
      ]
     },
     "metadata": {
      "needs_background": "light"
     },
     "output_type": "display_data"
    }
   ],
   "source": [
    "df1_values.plot(kind='bar', stacked=True, legend='reverse')"
   ]
  },
  {
   "cell_type": "code",
   "execution_count": 28,
   "id": "f5504178",
   "metadata": {},
   "outputs": [
    {
     "name": "stdout",
     "output_type": "stream",
     "text": [
      "{'Part One':   unique_values     counts\n",
      "0         anger  58.336731\n",
      "1           joy  28.862617\n",
      "2       sadness   8.560946\n",
      "3          fear   3.098247\n",
      "4          love   0.937627\n",
      "5      surprise   0.203832, 'Part Two':   unique_values     counts\n",
      "0         anger  59.352518\n",
      "1           joy  27.338129\n",
      "2       sadness   8.673062\n",
      "3          fear   3.876898\n",
      "4          love   0.599520\n",
      "5      surprise   0.159872}\n"
     ]
    }
   ],
   "source": [
    "all_parts = {}\n",
    "all_parts['Part One'] = df1_values\n",
    "all_parts['Part Two'] = df2_values\n",
    "print(all_parts)"
   ]
  },
  {
   "cell_type": "code",
   "execution_count": 29,
   "id": "e3f247b9",
   "metadata": {},
   "outputs": [
    {
     "data": {
      "text/html": [
       "<div>\n",
       "<style scoped>\n",
       "    .dataframe tbody tr th:only-of-type {\n",
       "        vertical-align: middle;\n",
       "    }\n",
       "\n",
       "    .dataframe tbody tr th {\n",
       "        vertical-align: top;\n",
       "    }\n",
       "\n",
       "    .dataframe thead th {\n",
       "        text-align: right;\n",
       "    }\n",
       "</style>\n",
       "<table border=\"1\" class=\"dataframe\">\n",
       "  <thead>\n",
       "    <tr style=\"text-align: right;\">\n",
       "      <th></th>\n",
       "      <th>unique_values</th>\n",
       "      <th>counts</th>\n",
       "    </tr>\n",
       "  </thead>\n",
       "  <tbody>\n",
       "    <tr>\n",
       "      <th>0</th>\n",
       "      <td>anger</td>\n",
       "      <td>58.336731</td>\n",
       "    </tr>\n",
       "    <tr>\n",
       "      <th>1</th>\n",
       "      <td>joy</td>\n",
       "      <td>28.862617</td>\n",
       "    </tr>\n",
       "    <tr>\n",
       "      <th>2</th>\n",
       "      <td>sadness</td>\n",
       "      <td>8.560946</td>\n",
       "    </tr>\n",
       "    <tr>\n",
       "      <th>3</th>\n",
       "      <td>fear</td>\n",
       "      <td>3.098247</td>\n",
       "    </tr>\n",
       "    <tr>\n",
       "      <th>4</th>\n",
       "      <td>love</td>\n",
       "      <td>0.937627</td>\n",
       "    </tr>\n",
       "    <tr>\n",
       "      <th>5</th>\n",
       "      <td>surprise</td>\n",
       "      <td>0.203832</td>\n",
       "    </tr>\n",
       "  </tbody>\n",
       "</table>\n",
       "</div>"
      ],
      "text/plain": [
       "  unique_values     counts\n",
       "0         anger  58.336731\n",
       "1           joy  28.862617\n",
       "2       sadness   8.560946\n",
       "3          fear   3.098247\n",
       "4          love   0.937627\n",
       "5      surprise   0.203832"
      ]
     },
     "execution_count": 29,
     "metadata": {},
     "output_type": "execute_result"
    }
   ],
   "source": [
    "pd.DataFrame(df1_values)"
   ]
  },
  {
   "cell_type": "code",
   "execution_count": 33,
   "id": "a186b346",
   "metadata": {},
   "outputs": [
    {
     "name": "stdout",
     "output_type": "stream",
     "text": [
      "                                            Part One  \\\n",
      "0    unique_values     counts\n",
      "0         anger  58...   \n",
      "\n",
      "                                            Part Two  \n",
      "0    unique_values     counts\n",
      "0         anger  59...  \n"
     ]
    }
   ],
   "source": [
    "df_all_parts = pd.DataFrame([all_parts])\n",
    "# all_parts.plot(kind='bar', stacked=True, legend='reverse')\n",
    "print(df_all_parts)"
   ]
  },
  {
   "cell_type": "code",
   "execution_count": null,
   "id": "07966527",
   "metadata": {},
   "outputs": [],
   "source": [
    "df3['Emotion'].value_counts()"
   ]
  },
  {
   "cell_type": "code",
   "execution_count": 19,
   "id": "060e0f77",
   "metadata": {},
   "outputs": [
    {
     "data": {
      "text/plain": [
       "anger       1022\n",
       "joy          477\n",
       "sadness      170\n",
       "fear          51\n",
       "love          13\n",
       "surprise       5\n",
       "Name: Emotion, dtype: int64"
      ]
     },
     "execution_count": 19,
     "metadata": {},
     "output_type": "execute_result"
    }
   ],
   "source": [
    "df4['Emotion'].value_counts()"
   ]
  },
  {
   "cell_type": "code",
   "execution_count": 20,
   "id": "bb854bfe",
   "metadata": {},
   "outputs": [
    {
     "data": {
      "text/plain": [
       "anger       1278\n",
       "joy          590\n",
       "sadness      263\n",
       "fear          73\n",
       "love          24\n",
       "surprise       4\n",
       "Name: Emotion, dtype: int64"
      ]
     },
     "execution_count": 20,
     "metadata": {},
     "output_type": "execute_result"
    }
   ],
   "source": [
    "df5['Emotion'].value_counts()"
   ]
  },
  {
   "cell_type": "code",
   "execution_count": 21,
   "id": "1f36ade2",
   "metadata": {},
   "outputs": [
    {
     "data": {
      "text/plain": [
       "anger       1432\n",
       "joy          767\n",
       "sadness      218\n",
       "fear          66\n",
       "love          11\n",
       "surprise       4\n",
       "Name: Emotion, dtype: int64"
      ]
     },
     "execution_count": 21,
     "metadata": {},
     "output_type": "execute_result"
    }
   ],
   "source": [
    "df6['Emotion'].value_counts()"
   ]
  },
  {
   "cell_type": "code",
   "execution_count": 22,
   "id": "623b6bc2",
   "metadata": {},
   "outputs": [
    {
     "data": {
      "text/plain": [
       "anger       1342\n",
       "joy          523\n",
       "sadness      196\n",
       "fear          92\n",
       "love          16\n",
       "surprise       9\n",
       "Name: Emotion, dtype: int64"
      ]
     },
     "execution_count": 22,
     "metadata": {},
     "output_type": "execute_result"
    }
   ],
   "source": [
    "df7['Emotion'].value_counts()"
   ]
  },
  {
   "cell_type": "code",
   "execution_count": 23,
   "id": "6ed0d37d",
   "metadata": {},
   "outputs": [
    {
     "data": {
      "text/plain": [
       "anger       558\n",
       "joy         282\n",
       "sadness      87\n",
       "fear         29\n",
       "love          3\n",
       "surprise      2\n",
       "Name: Emotion, dtype: int64"
      ]
     },
     "execution_count": 23,
     "metadata": {},
     "output_type": "execute_result"
    }
   ],
   "source": [
    "df8['Emotion'].value_counts()"
   ]
  },
  {
   "cell_type": "code",
   "execution_count": 24,
   "id": "6c7ceae4",
   "metadata": {},
   "outputs": [],
   "source": [
    "df1_percentage = df1['Emotion'].value_counts"
   ]
  },
  {
   "cell_type": "code",
   "execution_count": null,
   "id": "a0e12a23",
   "metadata": {},
   "outputs": [],
   "source": []
  },
  {
   "cell_type": "code",
   "execution_count": null,
   "id": "1e687050",
   "metadata": {},
   "outputs": [],
   "source": []
  },
  {
   "cell_type": "code",
   "execution_count": null,
   "id": "cd41bbf5",
   "metadata": {},
   "outputs": [],
   "source": []
  },
  {
   "cell_type": "code",
   "execution_count": null,
   "id": "9ba14b38",
   "metadata": {},
   "outputs": [],
   "source": []
  }
 ],
 "metadata": {
  "kernelspec": {
   "display_name": "Python 3 (ipykernel)",
   "language": "python",
   "name": "python3"
  },
  "language_info": {
   "codemirror_mode": {
    "name": "ipython",
    "version": 3
   },
   "file_extension": ".py",
   "mimetype": "text/x-python",
   "name": "python",
   "nbconvert_exporter": "python",
   "pygments_lexer": "ipython3",
   "version": "3.10.2"
  }
 },
 "nbformat": 4,
 "nbformat_minor": 5
}
