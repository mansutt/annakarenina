{
 "cells": [
  {
   "cell_type": "code",
   "execution_count": 6,
   "id": "6fde8b2b",
   "metadata": {},
   "outputs": [],
   "source": [
    "import os\n",
    "import seaborn as sns\n",
    "from matplotlib import pyplot as plt\n",
    "from nltk.sentiment import SentimentIntensityAnalyzer\n",
    "\n",
    "with open(os.path.join('..', 'text', 'lemmatized', 'ak_complete_lem.txt'), 'r', encoding='utf-8') as file:\n",
    "    ak_complete_lem = file.read()\n",
    "\n",
    "with open(os.path.join('..', 'text', 'lemmatized', 'ak_p1_lem.txt'), 'r', encoding='utf-8') as file:\n",
    "    ak_p1_lem = file.read()\n",
    "\n",
    "with open(os.path.join('..', 'text', 'lemmatized', 'ak_p2_lem.txt'), 'r', encoding='utf-8') as file:\n",
    "    ak_p2_lem = file.read()\n",
    "\n",
    "with open(os.path.join('..', 'text', 'lemmatized', 'ak_p3_lem.txt'), 'r', encoding='utf-8') as file:\n",
    "    ak_p3_lem = file.read()\n",
    "\n",
    "with open(os.path.join('..', 'text', 'lemmatized', 'ak_p4_lem.txt'), 'r', encoding='utf-8') as file:\n",
    "    ak_p4_lem = file.read()\n",
    "\n",
    "with open(os.path.join('..', 'text', 'lemmatized', 'ak_p5_lem.txt'), 'r', encoding='utf-8') as file:\n",
    "    ak_p5_lem = file.read()\n",
    "\n",
    "with open(os.path.join('..', 'text', 'lemmatized', 'ak_p6_lem.txt'), 'r', encoding='utf-8') as file:\n",
    "    ak_p6_lem = file.read()\n",
    "\n",
    "with open(os.path.join('..', 'text', 'lemmatized', 'ak_p7_lem.txt'), 'r', encoding='utf-8') as file:\n",
    "    ak_p7_lem = file.read()\n",
    "\n",
    "with open(os.path.join('..', 'text', 'lemmatized', 'ak_p8_lem.txt'), 'r', encoding='utf-8') as file:\n",
    "    ak_p8_lem = file.read()\n",
    "\n",
    "sia = SentimentIntensityAnalyzer()\n",
    "\n",
    "comp_sent = sia.polarity_scores(ak_complete_lem)\n",
    "p1_sent = sia.polarity_scores(ak_p1_lem)\n",
    "p2_sent = sia.polarity_scores(ak_p2_lem)\n",
    "p3_sent = sia.polarity_scores(ak_p3_lem)\n",
    "p4_sent = sia.polarity_scores(ak_p4_lem)\n",
    "p5_sent = sia.polarity_scores(ak_p5_lem)\n",
    "p6_sent = sia.polarity_scores(ak_p6_lem)\n",
    "p7_sent = sia.polarity_scores(ak_p7_lem)\n",
    "p8_sent = sia.polarity_scores(ak_p8_lem)"
   ]
  },
  {
   "cell_type": "code",
   "execution_count": 12,
   "id": "a5bc8a6e",
   "metadata": {},
   "outputs": [],
   "source": [
    "def sent_barplot(input, filename):\n",
    "     = input.keys()\n",
    "    values = input.values()\n",
    "    plt.bar(keys, values)\n",
    "    plt.savefig(str(filename) + '.png', dpi=400)"
   ]
  },
  {
   "cell_type": "code",
   "execution_count": 13,
   "id": "683eb20c",
   "metadata": {},
   "outputs": [
    {
     "data": {
      "image/png": "[encoded data removed]",
      "text/plain": [
       "<Figure size 432x288 with 1 Axes>"
      ]
     },
     "metadata": {
      "needs_background": "light"
     },
     "output_type": "display_data"
    }
   ],
   "source": [
    "sent_barplot(p1_sent, 'p1_sent')"
   ]
  },
  {
   "cell_type": "code",
   "execution_count": null,
   "id": "e37acc2c",
   "metadata": {},
   "outputs": [],
   "source": []
  }
 ],
 "metadata": {
  "kernelspec": {
   "display_name": "Python 3 (ipykernel)",
   "language": "python",
   "name": "python3"
  },
  "language_info": {
   "codemirror_mode": {
    "name": "ipython",
    "version": 3
   },
   "file_extension": ".py",
   "mimetype": "text/x-python",
   "name": "python",
   "nbconvert_exporter": "python",
   "pygments_lexer": "ipython3",
   "version": "3.10.2"
  }
 },
 "nbformat": 4,
 "nbformat_minor": 5
}
